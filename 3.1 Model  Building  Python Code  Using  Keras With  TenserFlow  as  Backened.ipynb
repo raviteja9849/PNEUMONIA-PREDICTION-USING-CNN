{
 "cells": [
  {
   "cell_type": "code",
   "execution_count": 1,
   "metadata": {
    "colab": {},
    "colab_type": "code",
    "executionInfo": {
     "elapsed": 1667,
     "status": "ok",
     "timestamp": 1597199227762,
     "user": {
      "displayName": "Data is Amazing",
      "photoUrl": "https://lh3.googleusercontent.com/a-/AOh14GgGrKWrkHKuqT0fp-keOWIaxwzdzv9DSuXpTL8vnA=s64",
      "userId": "08152059277312475826"
     },
     "user_tz": -330
    },
    "id": "aZDGlQDcfNMS"
   },
   "outputs": [],
   "source": [
    "\n",
    "# This Python 3 environment comes with many helpful analytics libraries installed\n",
    "# It is defined by the kaggle/python Docker image: https://github.com/kaggle/docker-python\n",
    "# For example, here's several helpful packages to load\n",
    "\n",
    "import numpy as np # linear algebra\n",
    "import pandas as pd # data processing, CSV file I/O (e.g. pd.read_csv)\n",
    "import cv2 # import cv2"
   ]
  },
  {
   "cell_type": "code",
   "execution_count": 7,
   "metadata": {
    "colab": {},
    "colab_type": "code",
    "executionInfo": {
     "elapsed": 1047,
     "status": "ok",
     "timestamp": 1597199421273,
     "user": {
      "displayName": "Data is Amazing",
      "photoUrl": "https://lh3.googleusercontent.com/a-/AOh14GgGrKWrkHKuqT0fp-keOWIaxwzdzv9DSuXpTL8vnA=s64",
      "userId": "08152059277312475826"
     },
     "user_tz": -330
    },
    "id": "fKKQKKZZfhlH"
   },
   "outputs": [],
   "source": [
    "import os\n"
   ]
  },
  {
   "cell_type": "code",
   "execution_count": 13,
   "metadata": {
    "colab": {
     "base_uri": "https://localhost:8080/",
     "height": 34
    },
    "colab_type": "code",
    "executionInfo": {
     "elapsed": 1240,
     "status": "ok",
     "timestamp": 1597199818205,
     "user": {
      "displayName": "Data is Amazing",
      "photoUrl": "https://lh3.googleusercontent.com/a-/AOh14GgGrKWrkHKuqT0fp-keOWIaxwzdzv9DSuXpTL8vnA=s64",
      "userId": "08152059277312475826"
     },
     "user_tz": -330
    },
    "id": "YDLDNB6RgQPw",
    "outputId": "88383069-f8a2-4828-944b-d9651d807adf"
   },
   "outputs": [
    {
     "name": "stdout",
     "output_type": "stream",
     "text": [
      "['Trainset', 'Testset', 'val']\n"
     ]
    }
   ],
   "source": [
    "print(os.listdir(\"/content/drive/My Drive/July 20th 06/Pneumonia Prediction Using X-RAY Images/Dataset\"))"
   ]
  },
  {
   "cell_type": "code",
   "execution_count": 15,
   "metadata": {
    "colab": {
     "base_uri": "https://localhost:8080/",
     "height": 34
    },
    "colab_type": "code",
    "executionInfo": {
     "elapsed": 1003,
     "status": "ok",
     "timestamp": 1597199833901,
     "user": {
      "displayName": "Data is Amazing",
      "photoUrl": "https://lh3.googleusercontent.com/a-/AOh14GgGrKWrkHKuqT0fp-keOWIaxwzdzv9DSuXpTL8vnA=s64",
      "userId": "08152059277312475826"
     },
     "user_tz": -330
    },
    "id": "-477AUjjgpq2",
    "outputId": "d70af7c5-3dc2-47bd-d177-b624226b06f5"
   },
   "outputs": [
    {
     "name": "stdout",
     "output_type": "stream",
     "text": [
      "['Trainset', 'Testset', 'val']\n"
     ]
    }
   ],
   "source": [
    "DIR = os.listdir('/content/drive/My Drive/July 20th 06/Pneumonia Prediction Using X-RAY Images/Dataset')\n",
    "print(DIR)"
   ]
  },
  {
   "cell_type": "code",
   "execution_count": 16,
   "metadata": {
    "colab": {},
    "colab_type": "code",
    "executionInfo": {
     "elapsed": 1170,
     "status": "ok",
     "timestamp": 1597199891502,
     "user": {
      "displayName": "Data is Amazing",
      "photoUrl": "https://lh3.googleusercontent.com/a-/AOh14GgGrKWrkHKuqT0fp-keOWIaxwzdzv9DSuXpTL8vnA=s64",
      "userId": "08152059277312475826"
     },
     "user_tz": -330
    },
    "id": "kHsYMCnkgSSj"
   },
   "outputs": [],
   "source": [
    "train_folder = '/content/drive/My Drive/July 20th 06/Pneumonia Prediction Using X-RAY Images/Dataset/Trainset'\n",
    "test_folder = '/content/drive/My Drive/July 20th 06/Pneumonia Prediction Using X-RAY Images/Dataset/Testset'\n",
    "val_folder = '/content/drive/My Drive/July 20th 06/Pneumonia Prediction Using X-RAY Images/Dataset/val'"
   ]
  },
  {
   "cell_type": "code",
   "execution_count": 19,
   "metadata": {
    "colab": {},
    "colab_type": "code",
    "executionInfo": {
     "elapsed": 1396,
     "status": "ok",
     "timestamp": 1597199935142,
     "user": {
      "displayName": "Data is Amazing",
      "photoUrl": "https://lh3.googleusercontent.com/a-/AOh14GgGrKWrkHKuqT0fp-keOWIaxwzdzv9DSuXpTL8vnA=s64",
      "userId": "08152059277312475826"
     },
     "user_tz": -330
    },
    "id": "97uAqtjniIXd"
   },
   "outputs": [],
   "source": [
    "import matplotlib.pyplot as plt\n",
    "import seaborn as sns\n",
    "from PIL import Image\n",
    "import random"
   ]
  },
  {
   "cell_type": "code",
   "execution_count": 18,
   "metadata": {
    "colab": {},
    "colab_type": "code",
    "executionInfo": {
     "elapsed": 1062,
     "status": "ok",
     "timestamp": 1597199931237,
     "user": {
      "displayName": "Data is Amazing",
      "photoUrl": "https://lh3.googleusercontent.com/a-/AOh14GgGrKWrkHKuqT0fp-keOWIaxwzdzv9DSuXpTL8vnA=s64",
      "userId": "08152059277312475826"
     },
     "user_tz": -330
    },
    "id": "2jFT4b0oiMv0"
   },
   "outputs": [],
   "source": [
    "import pandas.util.testing as tm"
   ]
  },
  {
   "cell_type": "markdown",
   "metadata": {
    "colab_type": "text",
    "id": "B2Tr7lfBzS-0"
   },
   "source": [
    "# ***Data Preprocessing***"
   ]
  },
  {
   "cell_type": "code",
   "execution_count": 20,
   "metadata": {
    "colab": {},
    "colab_type": "code",
    "executionInfo": {
     "elapsed": 1401,
     "status": "ok",
     "timestamp": 1597200006310,
     "user": {
      "displayName": "Data is Amazing",
      "photoUrl": "https://lh3.googleusercontent.com/a-/AOh14GgGrKWrkHKuqT0fp-keOWIaxwzdzv9DSuXpTL8vnA=s64",
      "userId": "08152059277312475826"
     },
     "user_tz": -330
    },
    "id": "lxjcxM7IiPl2"
   },
   "outputs": [],
   "source": [
    "#######################################Data Preprocessing############################################################\n",
    "\n",
    "labels = [\"NORMAL\", \"PNEUMONIA\"] # each folder has two sub folder name \"PNEUMONIA\", \"NORMAL\"\n",
    "IMG_SIZE = 50 # resize image\n",
    "\n",
    "def get_data_train(data_dir):\n",
    "    data = []\n",
    "    for label in labels:\n",
    "        path = os.path.join(data_dir, label)\n",
    "        class_num = labels.index(label)\n",
    "        for img in os.listdir(path):\n",
    "            try:\n",
    "                img_array = cv2.imread(os.path.join(path, img), cv2.IMREAD_GRAYSCALE)\n",
    "                new_array = cv2.resize(img_array, (IMG_SIZE, IMG_SIZE))\n",
    "                data.append([new_array, class_num])\n",
    "            except Exception as e:\n",
    "                print(e)\n",
    "    return np.array(data)"
   ]
  },
  {
   "cell_type": "markdown",
   "metadata": {
    "colab_type": "text",
    "id": "PlpEQPHuzJCk"
   },
   "source": []
  },
  {
   "cell_type": "markdown",
   "metadata": {
    "colab_type": "text",
    "id": "cbHlUVaSy8SQ"
   },
   "source": []
  },
  {
   "cell_type": "code",
   "execution_count": 27,
   "metadata": {
    "colab": {},
    "colab_type": "code",
    "executionInfo": {
     "elapsed": 823996,
     "status": "ok",
     "timestamp": 1597202609700,
     "user": {
      "displayName": "Data is Amazing",
      "photoUrl": "https://lh3.googleusercontent.com/a-/AOh14GgGrKWrkHKuqT0fp-keOWIaxwzdzv9DSuXpTL8vnA=s64",
      "userId": "08152059277312475826"
     },
     "user_tz": -330
    },
    "id": "AttMdzBYii38"
   },
   "outputs": [],
   "source": [
    "train = get_data_train(train_folder)"
   ]
  },
  {
   "cell_type": "code",
   "execution_count": 28,
   "metadata": {
    "colab": {},
    "colab_type": "code",
    "executionInfo": {
     "elapsed": 245768,
     "status": "ok",
     "timestamp": 1597202892877,
     "user": {
      "displayName": "Data is Amazing",
      "photoUrl": "https://lh3.googleusercontent.com/a-/AOh14GgGrKWrkHKuqT0fp-keOWIaxwzdzv9DSuXpTL8vnA=s64",
      "userId": "08152059277312475826"
     },
     "user_tz": -330
    },
    "id": "4QVvhxyEi-dj"
   },
   "outputs": [],
   "source": [
    "test = get_data_train(test_folder)"
   ]
  },
  {
   "cell_type": "code",
   "execution_count": 25,
   "metadata": {
    "colab": {
     "base_uri": "https://localhost:8080/",
     "height": 85
    },
    "colab_type": "code",
    "executionInfo": {
     "elapsed": 14132,
     "status": "ok",
     "timestamp": 1597201748854,
     "user": {
      "displayName": "Data is Amazing",
      "photoUrl": "https://lh3.googleusercontent.com/a-/AOh14GgGrKWrkHKuqT0fp-keOWIaxwzdzv9DSuXpTL8vnA=s64",
      "userId": "08152059277312475826"
     },
     "user_tz": -330
    },
    "id": "RCkzZXJopDeF",
    "outputId": "daa73215-2b77-4df1-c386-95a8591846fd"
   },
   "outputs": [
    {
     "name": "stdout",
     "output_type": "stream",
     "text": [
      "OpenCV(4.1.2) /io/opencv/modules/imgproc/src/resize.cpp:3720: error: (-215:Assertion failed) !ssize.empty() in function 'resize'\n",
      "\n",
      "OpenCV(4.1.2) /io/opencv/modules/imgproc/src/resize.cpp:3720: error: (-215:Assertion failed) !ssize.empty() in function 'resize'\n",
      "\n"
     ]
    }
   ],
   "source": [
    "val = get_data_train(val_folder)"
   ]
  },
  {
   "cell_type": "code",
   "execution_count": 29,
   "metadata": {
    "colab": {
     "base_uri": "https://localhost:8080/",
     "height": 283
    },
    "colab_type": "code",
    "executionInfo": {
     "elapsed": 1232,
     "status": "ok",
     "timestamp": 1597202945544,
     "user": {
      "displayName": "Data is Amazing",
      "photoUrl": "https://lh3.googleusercontent.com/a-/AOh14GgGrKWrkHKuqT0fp-keOWIaxwzdzv9DSuXpTL8vnA=s64",
      "userId": "08152059277312475826"
     },
     "user_tz": -330
    },
    "id": "257LxQMls2w-",
    "outputId": "fc7bb2d0-6d2e-4379-fc1a-bec2fc72d944"
   },
   "outputs": [
    {
     "data": {
      "text/plain": [
       "<matplotlib.axes._subplots.AxesSubplot at 0x7f92a95dbfd0>"
      ]
     },
     "execution_count": 29,
     "metadata": {
      "tags": []
     },
     "output_type": "execute_result"
    },
    {
     "data": {
      "image/png": "[encoded data removed]",
      "text/plain": [
       "<Figure size 432x288 with 1 Axes>"
      ]
     },
     "metadata": {
      "needs_background": "light",
      "tags": []
     },
     "output_type": "display_data"
    }
   ],
   "source": [
    "l = []\n",
    "for i in train:\n",
    "    if(i[1] == 0):\n",
    "        l.append(\"Normal\")\n",
    "    else:\n",
    "        l.append(\"Pneumonia\")\n",
    "        \n",
    "sns.countplot(l)"
   ]
  },
  {
   "cell_type": "code",
   "execution_count": 32,
   "metadata": {
    "colab": {},
    "colab_type": "code",
    "executionInfo": {
     "elapsed": 1096,
     "status": "ok",
     "timestamp": 1597202992328,
     "user": {
      "displayName": "Data is Amazing",
      "photoUrl": "https://lh3.googleusercontent.com/a-/AOh14GgGrKWrkHKuqT0fp-keOWIaxwzdzv9DSuXpTL8vnA=s64",
      "userId": "08152059277312475826"
     },
     "user_tz": -330
    },
    "id": "f_yL7eops_YP"
   },
   "outputs": [],
   "source": [
    "X_train = []\n",
    "y_train = []\n",
    "\n",
    "X_val = []\n",
    "y_val = []\n",
    "\n",
    "X_test = []\n",
    "y_test = []\n",
    "\n",
    "for feature, label in train:\n",
    "    X_train.append(feature)\n",
    "    y_train.append(label)\n",
    "\n",
    "for feature, label in test:\n",
    "    X_test.append(feature)\n",
    "    y_test.append(label)\n",
    "    \n",
    "for feature, label in val:\n",
    "    X_val.append(feature)\n",
    "    y_val.append(label)"
   ]
  },
  {
   "cell_type": "code",
   "execution_count": 33,
   "metadata": {
    "colab": {},
    "colab_type": "code",
    "executionInfo": {
     "elapsed": 1032,
     "status": "ok",
     "timestamp": 1597202997190,
     "user": {
      "displayName": "Data is Amazing",
      "photoUrl": "https://lh3.googleusercontent.com/a-/AOh14GgGrKWrkHKuqT0fp-keOWIaxwzdzv9DSuXpTL8vnA=s64",
      "userId": "08152059277312475826"
     },
     "user_tz": -330
    },
    "id": "4YMIUJ43tB9a"
   },
   "outputs": [],
   "source": [
    "X_train = np.array(X_train) / 255\n",
    "X_val = np.array(X_val) / 255\n",
    "X_test = np.array(X_test) / 255"
   ]
  },
  {
   "cell_type": "code",
   "execution_count": 34,
   "metadata": {
    "colab": {
     "base_uri": "https://localhost:8080/",
     "height": 34
    },
    "colab_type": "code",
    "executionInfo": {
     "elapsed": 1054,
     "status": "ok",
     "timestamp": 1597203001265,
     "user": {
      "displayName": "Data is Amazing",
      "photoUrl": "https://lh3.googleusercontent.com/a-/AOh14GgGrKWrkHKuqT0fp-keOWIaxwzdzv9DSuXpTL8vnA=s64",
      "userId": "08152059277312475826"
     },
     "user_tz": -330
    },
    "id": "kcKfXN-XtEo7",
    "outputId": "f57a8edd-ed82-43f6-9503-31c565f05848"
   },
   "outputs": [
    {
     "data": {
      "text/plain": [
       "(624, 50, 50)"
      ]
     },
     "execution_count": 34,
     "metadata": {
      "tags": []
     },
     "output_type": "execute_result"
    }
   ],
   "source": [
    "X_test.shape"
   ]
  },
  {
   "cell_type": "code",
   "execution_count": 35,
   "metadata": {
    "colab": {},
    "colab_type": "code",
    "executionInfo": {
     "elapsed": 1499,
     "status": "ok",
     "timestamp": 1597203011915,
     "user": {
      "displayName": "Data is Amazing",
      "photoUrl": "https://lh3.googleusercontent.com/a-/AOh14GgGrKWrkHKuqT0fp-keOWIaxwzdzv9DSuXpTL8vnA=s64",
      "userId": "08152059277312475826"
     },
     "user_tz": -330
    },
    "id": "wqQq4nU0tGp6"
   },
   "outputs": [],
   "source": [
    "X_train = X_train.reshape(-1, IMG_SIZE, IMG_SIZE, 1)\n",
    "y_train = np.array(y_train)\n",
    "\n",
    "X_val = X_val.reshape(-1, IMG_SIZE, IMG_SIZE, 1)\n",
    "y_val = np.array(y_val)\n",
    "\n",
    "X_test = X_test.reshape(-1, IMG_SIZE, IMG_SIZE, 1)\n",
    "y_test = np.array(y_test)"
   ]
  },
  {
   "cell_type": "markdown",
   "metadata": {
    "colab_type": "text",
    "id": "m0jmyji9zewC"
   },
   "source": [
    "# **Model Building**"
   ]
  },
  {
   "cell_type": "code",
   "execution_count": 36,
   "metadata": {
    "colab": {},
    "colab_type": "code",
    "executionInfo": {
     "elapsed": 2907,
     "status": "ok",
     "timestamp": 1597203031797,
     "user": {
      "displayName": "Data is Amazing",
      "photoUrl": "https://lh3.googleusercontent.com/a-/AOh14GgGrKWrkHKuqT0fp-keOWIaxwzdzv9DSuXpTL8vnA=s64",
      "userId": "08152059277312475826"
     },
     "user_tz": -330
    },
    "id": "Eya0n6CMtJnM"
   },
   "outputs": [],
   "source": [
    "import tensorflow as tf\n",
    "from tensorflow.keras.layers import Flatten, Conv2D, Activation, Dense, Dropout, MaxPooling2D\n",
    "from tensorflow.keras.models import Sequential"
   ]
  },
  {
   "cell_type": "code",
   "execution_count": 37,
   "metadata": {
    "colab": {
     "base_uri": "https://localhost:8080/",
     "height": 1000
    },
    "colab_type": "code",
    "executionInfo": {
     "elapsed": 692951,
     "status": "ok",
     "timestamp": 1597203755140,
     "user": {
      "displayName": "Data is Amazing",
      "photoUrl": "https://lh3.googleusercontent.com/a-/AOh14GgGrKWrkHKuqT0fp-keOWIaxwzdzv9DSuXpTL8vnA=s64",
      "userId": "08152059277312475826"
     },
     "user_tz": -330
    },
    "id": "5pqPX4_puIz0",
    "outputId": "056e6437-5ffd-4054-ca70-f3d50348abf3"
   },
   "outputs": [
    {
     "name": "stdout",
     "output_type": "stream",
     "text": [
      "Epoch 1/25\n",
      "163/163 [==============================] - 28s 169ms/step - loss: 0.4300 - accuracy: 0.8092 - val_loss: 0.7607 - val_accuracy: 0.7812\n",
      "Epoch 2/25\n",
      "163/163 [==============================] - 27s 168ms/step - loss: 0.1570 - accuracy: 0.9400 - val_loss: 0.4418 - val_accuracy: 0.8125\n",
      "Epoch 3/25\n",
      "163/163 [==============================] - 27s 168ms/step - loss: 0.1268 - accuracy: 0.9534 - val_loss: 0.3486 - val_accuracy: 0.8750\n",
      "Epoch 4/25\n",
      "163/163 [==============================] - 28s 169ms/step - loss: 0.1213 - accuracy: 0.9530 - val_loss: 0.2394 - val_accuracy: 0.9062\n",
      "Epoch 5/25\n",
      "163/163 [==============================] - 27s 168ms/step - loss: 0.0968 - accuracy: 0.9663 - val_loss: 0.2378 - val_accuracy: 0.8750\n",
      "Epoch 6/25\n",
      "163/163 [==============================] - 27s 167ms/step - loss: 0.0816 - accuracy: 0.9714 - val_loss: 0.2499 - val_accuracy: 0.9062\n",
      "Epoch 7/25\n",
      "163/163 [==============================] - 27s 168ms/step - loss: 0.0698 - accuracy: 0.9743 - val_loss: 0.3326 - val_accuracy: 0.8438\n",
      "Epoch 8/25\n",
      "163/163 [==============================] - 27s 166ms/step - loss: 0.0668 - accuracy: 0.9755 - val_loss: 0.1316 - val_accuracy: 0.9375\n",
      "Epoch 9/25\n",
      "163/163 [==============================] - 27s 168ms/step - loss: 0.0625 - accuracy: 0.9747 - val_loss: 0.1494 - val_accuracy: 0.9062\n",
      "Epoch 10/25\n",
      "163/163 [==============================] - 27s 167ms/step - loss: 0.0513 - accuracy: 0.9814 - val_loss: 0.1193 - val_accuracy: 0.9688\n",
      "Epoch 11/25\n",
      "163/163 [==============================] - 27s 166ms/step - loss: 0.0535 - accuracy: 0.9797 - val_loss: 0.2139 - val_accuracy: 0.9062\n",
      "Epoch 12/25\n",
      "163/163 [==============================] - 27s 167ms/step - loss: 0.0499 - accuracy: 0.9795 - val_loss: 0.0453 - val_accuracy: 1.0000\n",
      "Epoch 13/25\n",
      "163/163 [==============================] - 27s 166ms/step - loss: 0.0483 - accuracy: 0.9808 - val_loss: 0.1374 - val_accuracy: 0.8750\n",
      "Epoch 14/25\n",
      "163/163 [==============================] - 27s 166ms/step - loss: 0.0510 - accuracy: 0.9804 - val_loss: 0.1849 - val_accuracy: 0.8438\n",
      "Epoch 15/25\n",
      "163/163 [==============================] - 27s 169ms/step - loss: 0.0420 - accuracy: 0.9850 - val_loss: 0.2537 - val_accuracy: 0.9375\n",
      "Epoch 16/25\n",
      "163/163 [==============================] - 31s 189ms/step - loss: 0.0397 - accuracy: 0.9862 - val_loss: 0.0863 - val_accuracy: 0.9688\n",
      "Epoch 17/25\n",
      "163/163 [==============================] - 27s 165ms/step - loss: 0.0389 - accuracy: 0.9833 - val_loss: 0.0628 - val_accuracy: 1.0000\n",
      "Epoch 18/25\n",
      "163/163 [==============================] - 27s 166ms/step - loss: 0.0350 - accuracy: 0.9864 - val_loss: 0.0367 - val_accuracy: 1.0000\n",
      "Epoch 19/25\n",
      "163/163 [==============================] - 27s 166ms/step - loss: 0.0350 - accuracy: 0.9872 - val_loss: 0.1609 - val_accuracy: 0.9062\n",
      "Epoch 20/25\n",
      "163/163 [==============================] - 27s 166ms/step - loss: 0.0244 - accuracy: 0.9910 - val_loss: 0.3193 - val_accuracy: 0.8438\n",
      "Epoch 21/25\n",
      "163/163 [==============================] - 27s 167ms/step - loss: 0.0279 - accuracy: 0.9887 - val_loss: 0.0809 - val_accuracy: 0.9688\n",
      "Epoch 22/25\n",
      "163/163 [==============================] - 27s 165ms/step - loss: 0.0306 - accuracy: 0.9889 - val_loss: 0.3537 - val_accuracy: 0.8438\n",
      "Epoch 23/25\n",
      "163/163 [==============================] - 27s 166ms/step - loss: 0.0309 - accuracy: 0.9877 - val_loss: 0.0281 - val_accuracy: 1.0000\n",
      "Epoch 24/25\n",
      "163/163 [==============================] - 27s 165ms/step - loss: 0.0200 - accuracy: 0.9923 - val_loss: 0.0903 - val_accuracy: 0.9375\n",
      "Epoch 25/25\n",
      "163/163 [==============================] - 27s 166ms/step - loss: 0.0230 - accuracy: 0.9916 - val_loss: 0.0332 - val_accuracy: 1.0000\n",
      "20/20 [==============================] - 1s 40ms/step - loss: 1.6041 - accuracy: 0.7788\n",
      "WARNING:tensorflow:From /usr/local/lib/python3.6/dist-packages/tensorflow/python/training/tracking/tracking.py:111: Model.state_updates (from tensorflow.python.keras.engine.training) is deprecated and will be removed in a future version.\n",
      "Instructions for updating:\n",
      "This property should not be used in TensorFlow 2.0, as updates are applied automatically.\n",
      "WARNING:tensorflow:From /usr/local/lib/python3.6/dist-packages/tensorflow/python/training/tracking/tracking.py:111: Layer.updates (from tensorflow.python.keras.engine.base_layer) is deprecated and will be removed in a future version.\n",
      "Instructions for updating:\n",
      "This property should not be used in TensorFlow 2.0, as updates are applied automatically.\n",
      "INFO:tensorflow:Assets written to: cnn.model/assets\n"
     ]
    }
   ],
   "source": [
    "model = Sequential()\n",
    "\n",
    "model.add(Conv2D(32, (3, 3), padding=\"same\", input_shape=X_train.shape[1:]))\n",
    "model.add(Activation(\"relu\"))\n",
    "model.add(MaxPooling2D(2, 2))\n",
    "model.add(Dropout(0.2))\n",
    "\n",
    "model.add(Conv2D(64, (3, 3), padding=\"same\"))\n",
    "model.add(Activation(\"relu\"))\n",
    "model.add(MaxPooling2D(2, 2))\n",
    "model.add(Dropout(0.2))\n",
    "\n",
    "model.add(Conv2D(128, (3, 3), padding=\"same\"))\n",
    "model.add(Activation(\"relu\"))\n",
    "model.add(MaxPooling2D(2, 2))\n",
    "model.add(Dropout(0.2))\n",
    "\n",
    "model.add(Flatten())\n",
    "model.add(Dense(128, activation=\"relu\"))\n",
    "\n",
    "model.add(Dense(1))\n",
    "model.add(Activation(\"sigmoid\"))\n",
    "\n",
    "model.compile(loss=\"binary_crossentropy\", optimizer=\"adam\", metrics=[\"accuracy\"])\n",
    "history = model.fit(X_train, y_train, epochs=25, validation_data=(X_val, y_val), shuffle=True)\n",
    "scores = model.evaluate(X_test, y_test)\n",
    "\n",
    "model.save(\"cnn.model\")"
   ]
  },
  {
   "cell_type": "code",
   "execution_count": 38,
   "metadata": {
    "colab": {
     "base_uri": "https://localhost:8080/",
     "height": 51
    },
    "colab_type": "code",
    "executionInfo": {
     "elapsed": 876,
     "status": "ok",
     "timestamp": 1597203776347,
     "user": {
      "displayName": "Data is Amazing",
      "photoUrl": "https://lh3.googleusercontent.com/a-/AOh14GgGrKWrkHKuqT0fp-keOWIaxwzdzv9DSuXpTL8vnA=s64",
      "userId": "08152059277312475826"
     },
     "user_tz": -330
    },
    "id": "7nBpHYxtuJ1o",
    "outputId": "f67d8b76-7591-4ed7-d98f-5cdd494ad565"
   },
   "outputs": [
    {
     "name": "stdout",
     "output_type": "stream",
     "text": [
      "Test loss 1.6041066646575928\n",
      "Test accuracy 0.7788461446762085\n"
     ]
    }
   ],
   "source": [
    "# scores\n",
    "print(\"Test loss {}\".format(scores[0]))\n",
    "print(\"Test accuracy {}\".format(scores[1]))"
   ]
  },
  {
   "cell_type": "code",
   "execution_count": 39,
   "metadata": {
    "colab": {
     "base_uri": "https://localhost:8080/",
     "height": 513
    },
    "colab_type": "code",
    "executionInfo": {
     "elapsed": 1740,
     "status": "ok",
     "timestamp": 1597203807340,
     "user": {
      "displayName": "Data is Amazing",
      "photoUrl": "https://lh3.googleusercontent.com/a-/AOh14GgGrKWrkHKuqT0fp-keOWIaxwzdzv9DSuXpTL8vnA=s64",
      "userId": "08152059277312475826"
     },
     "user_tz": -330
    },
    "id": "aZsrxHwlw390",
    "outputId": "cb9afcac-9596-4420-8d12-c178458a6492"
   },
   "outputs": [
    {
     "data": {
      "image/png": "[encoded data removed]",
      "text/plain": [
       "<Figure size 432x288 with 1 Axes>"
      ]
     },
     "metadata": {
      "needs_background": "light",
      "tags": []
     },
     "output_type": "display_data"
    },
    {
     "data": {
      "image/png": "[encoded data removed]",
      "text/plain": [
       "<Figure size 432x288 with 1 Axes>"
      ]
     },
     "metadata": {
      "needs_background": "light",
      "tags": []
     },
     "output_type": "display_data"
    }
   ],
   "source": [
    "# visualization\n",
    "\n",
    "import matplotlib.pyplot as plt\n",
    "accuracy = history.history['accuracy']\n",
    "val_accuracy = history.history['val_accuracy']\n",
    "loss = history.history['loss']\n",
    "val_loss = history.history['val_loss']\n",
    "epochs = range(len(accuracy))\n",
    "\n",
    "plt.plot(epochs, accuracy, \"b\", label=\"trainning accuracy\")\n",
    "plt.plot(epochs, val_accuracy, \"r\", label=\"validation accuracy\")\n",
    "plt.legend()\n",
    "plt.show()\n",
    "\n",
    "plt.plot(epochs, loss, \"b\", label=\"trainning loss\")\n",
    "plt.plot(epochs, val_loss, \"r\", label=\"validation loss\")\n",
    "plt.legend()\n",
    "plt.show()"
   ]
  },
  {
   "cell_type": "code",
   "execution_count": 40,
   "metadata": {
    "colab": {
     "base_uri": "https://localhost:8080/",
     "height": 105
    },
    "colab_type": "code",
    "executionInfo": {
     "elapsed": 1884,
     "status": "ok",
     "timestamp": 1597203832427,
     "user": {
      "displayName": "Data is Amazing",
      "photoUrl": "https://lh3.googleusercontent.com/a-/AOh14GgGrKWrkHKuqT0fp-keOWIaxwzdzv9DSuXpTL8vnA=s64",
      "userId": "08152059277312475826"
     },
     "user_tz": -330
    },
    "id": "bXvan5ocw_VT",
    "outputId": "006cfc16-19ca-4213-b4c9-89039b55682a"
   },
   "outputs": [
    {
     "name": "stdout",
     "output_type": "stream",
     "text": [
      "WARNING:tensorflow:From <ipython-input-40-cc5d1c0f711e>:3: Sequential.predict_classes (from tensorflow.python.keras.engine.sequential) is deprecated and will be removed after 2021-01-01.\n",
      "Instructions for updating:\n",
      "Please use instead:* `np.argmax(model.predict(x), axis=-1)`,   if your model does multi-class classification   (e.g. if it uses a `softmax` last-layer activation).* `(model.predict(x) > 0.5).astype(\"int32\")`,   if your model does binary classification   (e.g. if it uses a `sigmoid` last-layer activation).\n"
     ]
    },
    {
     "data": {
      "text/plain": [
       "array([1, 0, 0, 1, 0, 0, 1, 0, 0, 1, 0, 1, 0, 1, 1], dtype=int32)"
      ]
     },
     "execution_count": 40,
     "metadata": {
      "tags": []
     },
     "output_type": "execute_result"
    }
   ],
   "source": [
    "# predict classes\n",
    "\n",
    "prediction = model.predict_classes(X_test)\n",
    "prediction = prediction.reshape(1, -1)[0]\n",
    "prediction[:15]"
   ]
  },
  {
   "cell_type": "code",
   "execution_count": 41,
   "metadata": {
    "colab": {},
    "colab_type": "code",
    "executionInfo": {
     "elapsed": 1001,
     "status": "ok",
     "timestamp": 1597203844510,
     "user": {
      "displayName": "Data is Amazing",
      "photoUrl": "https://lh3.googleusercontent.com/a-/AOh14GgGrKWrkHKuqT0fp-keOWIaxwzdzv9DSuXpTL8vnA=s64",
      "userId": "08152059277312475826"
     },
     "user_tz": -330
    },
    "id": "2jFRSrjfxFa4"
   },
   "outputs": [],
   "source": [
    "# correct and incorrect\n",
    "# check tensorflow website\n",
    "\n",
    "correct = np.nonzero(prediction == y_test)[0]\n",
    "incorrect = np.nonzero(prediction != y_test)[0]"
   ]
  },
  {
   "cell_type": "code",
   "execution_count": 42,
   "metadata": {
    "colab": {
     "base_uri": "https://localhost:8080/",
     "height": 297
    },
    "colab_type": "code",
    "executionInfo": {
     "elapsed": 2089,
     "status": "ok",
     "timestamp": 1597203870328,
     "user": {
      "displayName": "Data is Amazing",
      "photoUrl": "https://lh3.googleusercontent.com/a-/AOh14GgGrKWrkHKuqT0fp-keOWIaxwzdzv9DSuXpTL8vnA=s64",
      "userId": "08152059277312475826"
     },
     "user_tz": -330
    },
    "id": "DdnzFCTAxIld",
    "outputId": "99a16823-c172-45ff-9468-fba4d362d910"
   },
   "outputs": [
    {
     "data": {
      "image/png": "[encoded data removed]",
      "text/plain": [
       "<Figure size 432x288 with 6 Axes>"
      ]
     },
     "metadata": {
      "tags": []
     },
     "output_type": "display_data"
    }
   ],
   "source": [
    "j = 0\n",
    "for i in correct[:6]:\n",
    "    plt.subplot(3,2,j+1)\n",
    "    plt.xticks([])\n",
    "    plt.yticks([])\n",
    "    plt.imshow(X_test[i].reshape(50,50), cmap=\"gray\", interpolation='none')\n",
    "    plt.title(\"Predicted Class {},Actual Class {}\".format(prediction[i], y_test[i]))\n",
    "    plt.xlabel(labels[prediction[i]])\n",
    "    plt.tight_layout()\n",
    "    j += 1"
   ]
  },
  {
   "cell_type": "code",
   "execution_count": 43,
   "metadata": {
    "colab": {
     "base_uri": "https://localhost:8080/",
     "height": 297
    },
    "colab_type": "code",
    "executionInfo": {
     "elapsed": 1735,
     "status": "ok",
     "timestamp": 1597203893108,
     "user": {
      "displayName": "Data is Amazing",
      "photoUrl": "https://lh3.googleusercontent.com/a-/AOh14GgGrKWrkHKuqT0fp-keOWIaxwzdzv9DSuXpTL8vnA=s64",
      "userId": "08152059277312475826"
     },
     "user_tz": -330
    },
    "id": "oSWaeYqSxOn-",
    "outputId": "85842f1d-de6e-43c6-8ef4-733bd1b4f1a7"
   },
   "outputs": [
    {
     "data": {
      "image/png": "[encoded data removed]",
      "text/plain": [
       "<Figure size 432x288 with 6 Axes>"
      ]
     },
     "metadata": {
      "tags": []
     },
     "output_type": "display_data"
    }
   ],
   "source": [
    "j = 0\n",
    "for i in incorrect[:6]:\n",
    "    plt.subplot(3,2,j+1)\n",
    "    plt.xticks([])\n",
    "    plt.yticks([])\n",
    "    plt.imshow(X_test[i].reshape(50,50), cmap=\"gray\", interpolation='none')\n",
    "    plt.title(\"Predicted Class {},Actual Class {}\".format(prediction[i], y_test[i]))\n",
    "    plt.xlabel(labels[prediction[i]])\n",
    "    plt.tight_layout()\n",
    "    j += 1"
   ]
  },
  {
   "cell_type": "code",
   "execution_count": 44,
   "metadata": {
    "colab": {},
    "colab_type": "code",
    "executionInfo": {
     "elapsed": 1681,
     "status": "ok",
     "timestamp": 1597203915043,
     "user": {
      "displayName": "Data is Amazing",
      "photoUrl": "https://lh3.googleusercontent.com/a-/AOh14GgGrKWrkHKuqT0fp-keOWIaxwzdzv9DSuXpTL8vnA=s64",
      "userId": "08152059277312475826"
     },
     "user_tz": -330
    },
    "id": "4rXjNxY0xXQZ"
   },
   "outputs": [],
   "source": [
    "# load model and predict some some external photo\n",
    "\n",
    "labels = [\"NORMAL\", \"PNEUMONIA\"]\n",
    "def prepare(filepath):\n",
    "    img_array = cv2.imread(filepath, cv2.IMREAD_GRAYSCALE)\n",
    "    new_array = cv2.resize(img_array, (IMG_SIZE, IMG_SIZE))\n",
    "    return new_array.reshape(-1, IMG_SIZE, IMG_SIZE, 1)\n",
    "\n",
    "model = tf.keras.models.load_model(\"cnn.model\") # load model"
   ]
  },
  {
   "cell_type": "code",
   "execution_count": 45,
   "metadata": {
    "colab": {
     "base_uri": "https://localhost:8080/",
     "height": 34
    },
    "colab_type": "code",
    "executionInfo": {
     "elapsed": 1148,
     "status": "ok",
     "timestamp": 1597203998272,
     "user": {
      "displayName": "Data is Amazing",
      "photoUrl": "https://lh3.googleusercontent.com/a-/AOh14GgGrKWrkHKuqT0fp-keOWIaxwzdzv9DSuXpTL8vnA=s64",
      "userId": "08152059277312475826"
     },
     "user_tz": -330
    },
    "id": "JNyqm1Q1xZoX",
    "outputId": "f3b5130d-6d95-48aa-a0d2-1e1644b6d6d6"
   },
   "outputs": [
    {
     "name": "stdout",
     "output_type": "stream",
     "text": [
      "PNEUMONIA\n"
     ]
    }
   ],
   "source": [
    "# extra pneumonia photo from google\n",
    "prediction = model.predict([prepare(\"/content/drive/My Drive/July 20th 06/Pneumonia Prediction Using X-RAY Images/Dataset/val/PNEUMONIA/Copy of person1946_bacteria_4875 (1).jpeg\")])\n",
    "print(labels[int(prediction[0])])"
   ]
  },
  {
   "cell_type": "code",
   "execution_count": 46,
   "metadata": {
    "colab": {
     "base_uri": "https://localhost:8080/",
     "height": 34
    },
    "colab_type": "code",
    "executionInfo": {
     "elapsed": 1197,
     "status": "ok",
     "timestamp": 1597204026617,
     "user": {
      "displayName": "Data is Amazing",
      "photoUrl": "https://lh3.googleusercontent.com/a-/AOh14GgGrKWrkHKuqT0fp-keOWIaxwzdzv9DSuXpTL8vnA=s64",
      "userId": "08152059277312475826"
     },
     "user_tz": -330
    },
    "id": "FAFaGYqcxuFd",
    "outputId": "958e3e36-efac-431a-be25-61e537a04758"
   },
   "outputs": [
    {
     "name": "stdout",
     "output_type": "stream",
     "text": [
      "NORMAL\n"
     ]
    }
   ],
   "source": [
    "# extra normal x-ray photo from google\n",
    "prediction = model.predict([prepare(\"/content/drive/My Drive/July 20th 06/Pneumonia Prediction Using X-RAY Images/Dataset/val/NORMAL/NORMAL2-IM-1436-0001.jpeg\")])\n",
    "print(labels[int(prediction[0])])"
   ]
  },
  {
   "cell_type": "code",
   "execution_count": 47,
   "metadata": {
    "colab": {
     "base_uri": "https://localhost:8080/",
     "height": 34
    },
    "colab_type": "code",
    "executionInfo": {
     "elapsed": 895,
     "status": "ok",
     "timestamp": 1597204075525,
     "user": {
      "displayName": "Data is Amazing",
      "photoUrl": "https://lh3.googleusercontent.com/a-/AOh14GgGrKWrkHKuqT0fp-keOWIaxwzdzv9DSuXpTL8vnA=s64",
      "userId": "08152059277312475826"
     },
     "user_tz": -330
    },
    "id": "M1jELyEKx1AD",
    "outputId": "41bfc234-08f1-437d-e41a-f9cd6da95584"
   },
   "outputs": [
    {
     "name": "stdout",
     "output_type": "stream",
     "text": [
      "NORMAL\n"
     ]
    }
   ],
   "source": [
    "# extra normal x-ray photo from google\n",
    "prediction = model.predict([prepare(\"/content/drive/My Drive/July 20th 06/Pneumonia Prediction Using X-RAY Images/Dataset/val/NORMAL/NORMAL2-IM-1427-0001.jpeg\")])\n",
    "print(labels[int(prediction[0])])"
   ]
  },
  {
   "cell_type": "code",
   "execution_count": 49,
   "metadata": {
    "colab": {
     "base_uri": "https://localhost:8080/",
     "height": 34
    },
    "colab_type": "code",
    "executionInfo": {
     "elapsed": 1025,
     "status": "ok",
     "timestamp": 1597204141433,
     "user": {
      "displayName": "Data is Amazing",
      "photoUrl": "https://lh3.googleusercontent.com/a-/AOh14GgGrKWrkHKuqT0fp-keOWIaxwzdzv9DSuXpTL8vnA=s64",
      "userId": "08152059277312475826"
     },
     "user_tz": -330
    },
    "id": "Iy-oYbGgyBzN",
    "outputId": "0863ef1b-382f-45ae-fdf0-a315ef3aa0d6"
   },
   "outputs": [
    {
     "name": "stdout",
     "output_type": "stream",
     "text": [
      "PNEUMONIA\n"
     ]
    }
   ],
   "source": [
    "prediction = model.predict([prepare(\"/content/drive/My Drive/July 20th 06/Pneumonia Prediction Using X-RAY Images/Dataset/val/PNEUMONIA/Copy of person1951_bacteria_4882.jpeg\")])\n",
    "print(labels[int(prediction[0])])"
   ]
  },
  {
   "cell_type": "code",
   "execution_count": 50,
   "metadata": {
    "colab": {
     "base_uri": "https://localhost:8080/",
     "height": 34
    },
    "colab_type": "code",
    "executionInfo": {
     "elapsed": 924,
     "status": "ok",
     "timestamp": 1597204167012,
     "user": {
      "displayName": "Data is Amazing",
      "photoUrl": "https://lh3.googleusercontent.com/a-/AOh14GgGrKWrkHKuqT0fp-keOWIaxwzdzv9DSuXpTL8vnA=s64",
      "userId": "08152059277312475826"
     },
     "user_tz": -330
    },
    "id": "gEcpk9AfyKOW",
    "outputId": "b7957d57-eeff-468a-eb5d-00eb23ac735a"
   },
   "outputs": [
    {
     "name": "stdout",
     "output_type": "stream",
     "text": [
      "PNEUMONIA\n"
     ]
    }
   ],
   "source": [
    "prediction = model.predict([prepare(\"/content/drive/My Drive/July 20th 06/Pneumonia Prediction Using X-RAY Images/Dataset/val/PNEUMONIA/person1946_bacteria_4875.jpeg\")])\n",
    "print(labels[int(prediction[0])])"
   ]
  },
  {
   "cell_type": "code",
   "execution_count": null,
   "metadata": {
    "colab": {},
    "colab_type": "code",
    "id": "yAmuupCdyXVz"
   },
   "outputs": [],
   "source": []
  }
 ],
 "metadata": {
  "colab": {
   "authorship_tag": "ABX9TyNe0156D5R8BPy6SUrMjBNm",
   "collapsed_sections": [],
   "mount_file_id": "1Sj2_gmcI1lX5rJQnoJnoSAs5PhBrv7Pp",
   "name": "Akshay's First Google Colab.ipynb",
   "provenance": []
  },
  "kernelspec": {
   "display_name": "Python 3",
   "language": "python",
   "name": "python3"
  },
  "language_info": {
   "codemirror_mode": {
    "name": "ipython",
    "version": 3
   },
   "file_extension": ".py",
   "mimetype": "text/x-python",
   "name": "python",
   "nbconvert_exporter": "python",
   "pygments_lexer": "ipython3",
   "version": "3.7.6"
  }
 },
 "nbformat": 4,
 "nbformat_minor": 1
}
